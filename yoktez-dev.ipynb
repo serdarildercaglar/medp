{
 "cells": [
  {
   "cell_type": "code",
   "execution_count": 1,
   "metadata": {},
   "outputs": [],
   "source": [
    "!pip install -q -r requirements.txt"
   ]
  },
  {
   "cell_type": "markdown",
   "metadata": {},
   "source": [
    "# Bölüm 1: Genel Sayfa Tıklama İşlemleri"
   ]
  },
  {
   "cell_type": "code",
   "execution_count": 2,
   "metadata": {},
   "outputs": [],
   "source": [
    "import sys\n",
    "from selenium import webdriver\n",
    "from selenium.common.exceptions import WebDriverException\n",
    "from selenium.webdriver.support.ui import Select\n",
    "from selenium.webdriver.support.ui import WebDriverWait as wait\n",
    "from selenium.webdriver.support import expected_conditions as EC\n",
    "from selenium.webdriver.common.by import By\n",
    "from selenium.webdriver.chrome.options import Options\n",
    "from selenium.webdriver.common.keys import Keys\n",
    "from selenium.webdriver import ActionChains\n",
    "from selenium.webdriver.common.keys import Keys\n",
    "from bs4 import BeautifulSoup\n",
    "import pandas as pd\n",
    "import numpy as np\n",
    "import requests\n",
    "import time\n",
    "import re\n",
    "from fake_useragent import UserAgent\n",
    "\n"
   ]
  },
  {
   "cell_type": "code",
   "execution_count": 3,
   "metadata": {},
   "outputs": [],
   "source": [
    "ua = UserAgent()\n",
    "ua.random   \n",
    "\n",
    "url = \"https://tez.yok.gov.tr/UlusalTezMerkezi/\"\n"
   ]
  },
  {
   "cell_type": "code",
   "execution_count": 4,
   "metadata": {},
   "outputs": [],
   "source": [
    "import undetected_chromedriver as uc\n",
    "def get_driver(url):\n",
    "    ua = UserAgent()\n",
    "    ua.random       \n",
    "    options = uc.ChromeOptions()\n",
    "    options.add_argument(f'user-agent={ua.random}')\n",
    "    driver = uc.Chrome(options=options)\n",
    "    driver.get(url)\n",
    "    time.sleep(3)\n",
    "    return driver\n",
    "\n"
   ]
  },
  {
   "cell_type": "code",
   "execution_count": null,
   "metadata": {},
   "outputs": [],
   "source": [
    "# # # choose pop up\n",
    "# import time\n",
    "# driver = get_driver(url)\n",
    "# time.sleep(10)\n",
    "# driver.switch_to.window(driver.window_handles[1])\n",
    "\n",
    "# soup = BeautifulSoup(driver.page_source, 'html.parser')\n",
    "\n",
    "\n",
    "# üniversiteler = []\n",
    "# for i in soup.find_all(\"a\"):\n",
    "#     üniversiteler.append(i.text)\n",
    "# üniversiteler = üniversiteler[1:]\n",
    "# len(üniversiteler)\n",
    "# pd.Series(üniversiteler, name=\"üniversiteler\").to_csv(\"üniversiteler-15-03-2025.csv\", index=False)\n",
    "# # üniversiteler = pd.read_csv(\"üniversiteler.csv\").üniversiteler.to_list()"
   ]
  },
  {
   "cell_type": "code",
   "execution_count": 7,
   "metadata": {},
   "outputs": [],
   "source": [
    "def click_tarama(driver):\n",
    "    tarama_path = '//*[@id=\"navigation2\"]/ul/li[2]/a'\n",
    "    driver.find_element(By.XPATH, tarama_path).click()\n",
    "    time.sleep(3)    "
   ]
  },
  {
   "cell_type": "code",
   "execution_count": 8,
   "metadata": {},
   "outputs": [],
   "source": [
    "def üniversite_seç(driver, üniversite):\n",
    "    path = '//*[@id=\"tabs-1\"]/form/table/tbody/tr/td/table/tbody/tr[2]/td[2]/input[1]'\n",
    "    driver.find_element(By.XPATH, path).click()\n",
    "    driver.switch_to.window(driver.window_handles[1])\n",
    "    # click by text\n",
    "    driver.find_element(By.LINK_TEXT, üniversite).click()\n",
    "    time.sleep(2)\n",
    "    driver.switch_to.window(driver.window_handles[0])\n",
    "\n",
    "    "
   ]
  },
  {
   "cell_type": "code",
   "execution_count": 9,
   "metadata": {},
   "outputs": [],
   "source": [
    "def click_tez_türü(driver, tür=\"Tıpta Uzmanlık\"):\n",
    "    tez_türü_path = '//*[@id=\"tabs-1\"]/form/table/tbody/tr/td/table/tbody/tr[2]/td[4]/select'\n",
    "    driver.find_element(By.XPATH, tez_türü_path).click()\n",
    "    # choose dropdown menu by text\n",
    "    time.sleep(1)\n",
    "    driver.find_element(By.XPATH, tez_türü_path).send_keys(tür)   \n",
    "    time.sleep(1) \n",
    "\n"
   ]
  },
  {
   "cell_type": "code",
   "execution_count": 10,
   "metadata": {},
   "outputs": [],
   "source": [
    "def click_bul(driver):\n",
    "    bul_path = '//*[@id=\"tabs-1\"]/form/table/tbody/tr/td/table/tbody/tr[8]/td/input[3]'\n",
    "    driver.find_element(By.XPATH, bul_path).click()\n",
    "    time.sleep(2)"
   ]
  },
  {
   "cell_type": "code",
   "execution_count": 11,
   "metadata": {},
   "outputs": [],
   "source": [
    "def sonuç_sayısı(driver):\n",
    "    soup = BeautifulSoup(driver.page_source, 'html.parser')\n",
    "    sonuç_sayısı = soup.find(\"div\", {\"id\": \"divuyari\"}).text\n",
    "    sonuç_sayısı = re.findall(r'\\d+', sonuç_sayısı)\n",
    "    return int(sonuç_sayısı[0])"
   ]
  },
  {
   "cell_type": "code",
   "execution_count": 12,
   "metadata": {},
   "outputs": [],
   "source": [
    "driver = get_driver(url)"
   ]
  },
  {
   "cell_type": "code",
   "execution_count": 13,
   "metadata": {},
   "outputs": [],
   "source": [
    "click_tarama(driver)"
   ]
  },
  {
   "cell_type": "code",
   "execution_count": 14,
   "metadata": {},
   "outputs": [],
   "source": [
    "üniversite_seç(driver, üniversiteler[0])"
   ]
  },
  {
   "cell_type": "code",
   "execution_count": 15,
   "metadata": {},
   "outputs": [],
   "source": [
    "click_tez_türü(driver)"
   ]
  },
  {
   "cell_type": "code",
   "execution_count": 16,
   "metadata": {},
   "outputs": [],
   "source": [
    "click_bul(driver)"
   ]
  },
  {
   "cell_type": "code",
   "execution_count": 17,
   "metadata": {},
   "outputs": [
    {
     "data": {
      "text/plain": [
       "275"
      ]
     },
     "execution_count": 17,
     "metadata": {},
     "output_type": "execute_result"
    }
   ],
   "source": [
    "sonuç_sayısı(driver)"
   ]
  },
  {
   "cell_type": "code",
   "execution_count": 18,
   "metadata": {},
   "outputs": [],
   "source": [
    "def yıl_aralığı(driver, yıl1, yıl2):\n",
    "    # yıl2 yıl1 den büyük olmalı\n",
    "    yıl1_path = '//*[@id=\"tabs-1\"]/form/table/tbody/tr/td/table/tbody/tr[2]/td[6]/select[1]'\n",
    "    yıl2_path = '//*[@id=\"tabs-1\"]/form/table/tbody/tr/td/table/tbody/tr[2]/td[6]/select[2]'\n",
    "    driver.find_element(By.XPATH, yıl1_path).send_keys(yıl1)\n",
    "    driver.find_element(By.XPATH, yıl2_path).send_keys(yıl2)\n",
    "    time.sleep(1)\n",
    "\n"
   ]
  },
  {
   "cell_type": "markdown",
   "metadata": {},
   "source": [
    "# Bölüm 2: Sonuçları çekme"
   ]
  },
  {
   "cell_type": "code",
   "execution_count": 19,
   "metadata": {},
   "outputs": [],
   "source": [
    "soup = BeautifulSoup(driver.page_source, 'html.parser')\n",
    "# text/javascript\n",
    "data = soup.find_all(\"script\", {\"type\": \"text/javascript\"})[5]\n",
    "data = str(data)"
   ]
  },
  {
   "cell_type": "code",
   "execution_count": 20,
   "metadata": {},
   "outputs": [],
   "source": [
    "# regex ile verileri parse etme\n",
    "# tez no: >484903</span>\" arasında kalan sayılar\n",
    "tez_no = re.findall(r'(?<=>)\\d+(?=</span>)', data)\n",
    "# yıl-->  '''age: \"2018\",''' arasında kalan sayılar\n",
    "yıl = re.findall(r'(?<=age: \")\\d+(?=\",)', data)\n",
    "# title--> '''weight: \"Tiroidin benign ve malign neoplazmlarının </span>\",''' arasında kalan text\n",
    "title = re.findall(r'(?<=weight: \")(.*?)(?=</span>)', data)\n",
    "# üniversite--> '''uni:\"Abant İzzet Baysal Üniversitesi\",''' arasında kalan text\n",
    "üniversite = re.findall(r'(?<=uni:\")(.*?)(?=\",)', data)\n",
    "# tez_türü --> '''important: \"Tıpta Uzmanlık\",''' arasında kalan text\n",
    "tez_türü = re.findall(r'(?<=important: \")(.*?)(?=\",)', data)\n",
    "# konu --> '''someDate: \"Patoloji = Pathology\",''' arasında kalan text\n",
    "konu = re.findall(r'(?<=someDate: \")(.*?)(?=\",)', data)\n",
    "# tez_detay--> '''#FF0000;\\\" text text > arasında kalan text\n",
    "tez_detay  = r'#FF0000;\\\\\\\"(.+?)>'\n",
    "tez_detay = re.findall(tez_detay, data)\n"
   ]
  },
  {
   "cell_type": "code",
   "execution_count": null,
   "metadata": {},
   "outputs": [],
   "source": []
  },
  {
   "cell_type": "code",
   "execution_count": 21,
   "metadata": {},
   "outputs": [],
   "source": [
    "def get_table(driver):\n",
    "    \n",
    "    soup = BeautifulSoup(driver.page_source, 'html.parser')\n",
    "    # text/javascript\n",
    "    data = soup.find_all(\"script\", {\"type\": \"text/javascript\"})[5]\n",
    "    data = str(data)    \n",
    "    # tez no: >484903</span>\" arasında kalan sayılar\n",
    "    tez_no = re.findall(r'(?<=>)\\d+(?=</span>)', data)\n",
    "    yıl = re.findall(r'(?<=age: \")\\d+(?=\",)', data)\n",
    "    title = re.findall(r'(?<=weight: \")(.*?)(?=</span>)', data)\n",
    "    üniversite = re.findall(r'(?<=uni:\")(.*?)(?=\",)', data)\n",
    "    tez_türü = re.findall(r'(?<=important: \")(.*?)(?=\",)', data)\n",
    "    konu = re.findall(r'(?<=someDate: \")(.*?)(?=\",)', data)\n",
    "    tez_detay  = r'#FF0000;\\\\\\\"(.+?)>'\n",
    "    tez_detay = re.findall(tez_detay, data)\n",
    "    \n",
    "    return pd.DataFrame({\"tez_no\": tez_no,\n",
    "                         \"yıl\": yıl,\n",
    "                         \"title\": title,\n",
    "                         \"üniversite\": üniversite,\n",
    "                         \"tez_türü\": tez_türü,\n",
    "                         \"konu\": konu,\n",
    "                         \"tez_detay\": tez_detay})\n"
   ]
  },
  {
   "cell_type": "code",
   "execution_count": 24,
   "metadata": {},
   "outputs": [],
   "source": [
    "df = get_table(driver)"
   ]
  },
  {
   "cell_type": "code",
   "execution_count": 2,
   "metadata": {},
   "outputs": [],
   "source": [
    "def get_abstract(driver,tez_detay,tez_no):\n",
    "    driver.execute_script(tez_detay)\n",
    "    soup = BeautifulSoup(driver.page_source, 'html.parser')\n",
    "    tezno = soup.find_all(\"tr\", {\"class\": \"renkp\"})[0].find_all(\"td\")[0].text.replace(\"\\n\\t\",\"\").strip()\n",
    "    while tezno != tez_no:\n",
    "        driver.execute_script(tez_detay)\n",
    "        time.sleep(0.2)\n",
    "        soup = BeautifulSoup(driver.page_source, 'html.parser')\n",
    "        tezno = soup.find_all(\"tr\", {\"class\": \"renkp\"})[0].find_all(\"td\")[0].text.replace(\"\\n\\t\",\"\").strip()\n",
    "        time.sleep(0.1)\n",
    "    try:\n",
    "        en_absract = soup.find(id = 'td1').text\n",
    "    except:\n",
    "        en_absract = np.nan\n",
    "    try:\n",
    "        tr_absract = soup.find(id = 'td0').text\n",
    "    except:\n",
    "        tr_absract = np.nan\n",
    "    return en_absract, tr_absract"
   ]
  },
  {
   "cell_type": "code",
   "execution_count": 3,
   "metadata": {},
   "outputs": [
    {
     "ename": "NameError",
     "evalue": "name 'driver' is not defined",
     "output_type": "error",
     "traceback": [
      "\u001b[0;31m---------------------------------------------------------------------------\u001b[0m",
      "\u001b[0;31mNameError\u001b[0m                                 Traceback (most recent call last)",
      "\u001b[1;32m/media/forest/depo/projects/yöktez/yoktez-dev.ipynb Cell 27\u001b[0m line \u001b[0;36m1\n\u001b[0;32m----> <a href='vscode-notebook-cell:/media/forest/depo/projects/y%C3%B6ktez/yoktez-dev.ipynb#X35sZmlsZQ%3D%3D?line=0'>1</a>\u001b[0m get_abstract(driver,tez_detay[\u001b[39m150\u001b[39m], df\u001b[39m.\u001b[39mtez_no[\u001b[39m150\u001b[39m])\n",
      "\u001b[0;31mNameError\u001b[0m: name 'driver' is not defined"
     ]
    }
   ],
   "source": [
    "get_abstract(driver,tez_detay[150], df.tez_no[150])"
   ]
  },
  {
   "cell_type": "code",
   "execution_count": 38,
   "metadata": {},
   "outputs": [
    {
     "data": {
      "text/plain": [
       "[\" onclick=tezDetay('p3M1GrttjeK-zqVNDXNCFg','LfHnFSa4-F9wIA8tZssCYQ')\",\n",
       " \" onclick=tezDetay('k_56RsiVKppBdWVEPqLv_w','1jXSo_rMnc1ifcmy2o1L3w')\",\n",
       " \" onclick=tezDetay('p_-c_oZf7xzNGwK2UHiQ4Q','KRspEfA5dL2jTelR3lPRGQ')\"]"
      ]
     },
     "execution_count": 38,
     "metadata": {},
     "output_type": "execute_result"
    }
   ],
   "source": [
    "tez_detay[:3]"
   ]
  },
  {
   "cell_type": "code",
   "execution_count": 27,
   "metadata": {},
   "outputs": [],
   "source": [
    "soup = BeautifulSoup(driver.page_source, 'html.parser')\n",
    "tezno = soup.find_all(\"tr\", {\"class\": \"renkp\"})[0].find_all(\"td\")[0].text.replace(\"\\n\\t\",\"\").strip()"
   ]
  },
  {
   "cell_type": "code",
   "execution_count": 28,
   "metadata": {},
   "outputs": [
    {
     "data": {
      "text/plain": [
       "'132528'"
      ]
     },
     "execution_count": 28,
     "metadata": {},
     "output_type": "execute_result"
    }
   ],
   "source": [
    "tezno"
   ]
  },
  {
   "cell_type": "code",
   "execution_count": null,
   "metadata": {},
   "outputs": [],
   "source": []
  }
 ],
 "metadata": {
  "kernelspec": {
   "display_name": "yoktez",
   "language": "python",
   "name": "python3"
  },
  "language_info": {
   "codemirror_mode": {
    "name": "ipython",
    "version": 3
   },
   "file_extension": ".py",
   "mimetype": "text/x-python",
   "name": "python",
   "nbconvert_exporter": "python",
   "pygments_lexer": "ipython3",
   "version": "3.10.0"
  }
 },
 "nbformat": 4,
 "nbformat_minor": 2
}

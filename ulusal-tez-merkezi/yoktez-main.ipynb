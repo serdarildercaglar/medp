{
 "cells": [
  {
   "cell_type": "code",
   "execution_count": 1,
   "metadata": {},
   "outputs": [],
   "source": [
    "import sys\n",
    "from selenium import webdriver\n",
    "from selenium.common.exceptions import WebDriverException\n",
    "from selenium.webdriver.support.ui import Select\n",
    "from selenium.webdriver.support.ui import WebDriverWait as wait\n",
    "from selenium.webdriver.support import expected_conditions as EC\n",
    "from selenium.webdriver.common.by import By\n",
    "from selenium.webdriver.chrome.options import Options\n",
    "from selenium.webdriver.common.keys import Keys\n",
    "from selenium.webdriver import ActionChains\n",
    "from selenium.webdriver.common.keys import Keys\n",
    "from bs4 import BeautifulSoup\n",
    "import pandas as pd\n",
    "import numpy as np\n",
    "import requests\n",
    "import time\n",
    "import re\n",
    "from fake_useragent import UserAgent\n",
    "from functions import *"
   ]
  },
  {
   "cell_type": "code",
   "execution_count": 2,
   "metadata": {},
   "outputs": [],
   "source": [
    "\n",
    "\n",
    "url = \"https://tez.yok.gov.tr/UlusalTezMerkezi/\"\n",
    "\n"
   ]
  },
  {
   "cell_type": "code",
   "execution_count": 3,
   "metadata": {},
   "outputs": [],
   "source": [
    "üniversiteler = pd.read_csv(\"üniversiteler.csv\")['üniversiteler'].tolist()\n",
    "üniversiteler[185] = 'Melikşah Üniversitesi'\n"
   ]
  },
  {
   "cell_type": "code",
   "execution_count": 4,
   "metadata": {},
   "outputs": [
    {
     "data": {
      "text/plain": [
       "234"
      ]
     },
     "execution_count": 4,
     "metadata": {},
     "output_type": "execute_result"
    }
   ],
   "source": [
    "üniversiteler.index(\"Tekirdağ Namık Kemal Üniversitesi\")"
   ]
  },
  {
   "cell_type": "code",
   "execution_count": 5,
   "metadata": {},
   "outputs": [
    {
     "data": {
      "text/plain": [
       "'İzmir\\xa0Tınaztepe\\xa0Üniversitesi'"
      ]
     },
     "execution_count": 5,
     "metadata": {},
     "output_type": "execute_result"
    }
   ],
   "source": [
    "üniversiteler[150]"
   ]
  },
  {
   "cell_type": "code",
   "execution_count": 6,
   "metadata": {},
   "outputs": [
    {
     "name": "stdout",
     "output_type": "stream",
     "text": [
      "Abant İzzet Baysal Üniversitesi için sonuç sayısı: 275\n"
     ]
    },
    {
     "ename": "TypeError",
     "evalue": "Incoming markup is of an invalid type: None. Markup must be a string, a bytestring, or an open filehandle.",
     "output_type": "error",
     "traceback": [
      "\u001b[0;31m---------------------------------------------------------------------------\u001b[0m",
      "\u001b[0;31mTypeError\u001b[0m                                 Traceback (most recent call last)",
      "Cell \u001b[0;32mIn[6], line 24\u001b[0m\n\u001b[1;32m     22\u001b[0m en, tr \u001b[38;5;241m=\u001b[39m [], []\n\u001b[1;32m     23\u001b[0m \u001b[38;5;28;01mfor\u001b[39;00m idx,rows \u001b[38;5;129;01min\u001b[39;00m df\u001b[38;5;241m.\u001b[39miterrows():\n\u001b[0;32m---> 24\u001b[0m     e, t \u001b[38;5;241m=\u001b[39m \u001b[43mget_abstract\u001b[49m\u001b[43m(\u001b[49m\u001b[43mdriver\u001b[49m\u001b[43m,\u001b[49m\u001b[43mrows\u001b[49m\u001b[43m[\u001b[49m\u001b[38;5;124;43m\"\u001b[39;49m\u001b[38;5;124;43mtez_detay\u001b[39;49m\u001b[38;5;124;43m\"\u001b[39;49m\u001b[43m]\u001b[49m\u001b[43m,\u001b[49m\u001b[43mrows\u001b[49m\u001b[43m[\u001b[49m\u001b[38;5;124;43m\"\u001b[39;49m\u001b[38;5;124;43mtez_no\u001b[39;49m\u001b[38;5;124;43m\"\u001b[39;49m\u001b[43m]\u001b[49m\u001b[43m)\u001b[49m\n\u001b[1;32m     25\u001b[0m     en\u001b[38;5;241m.\u001b[39mappend(e)\n\u001b[1;32m     26\u001b[0m     tr\u001b[38;5;241m.\u001b[39mappend(t)\n",
      "File \u001b[0;32m/mnt/depo/projects/yöktez-tıpta-uzmanlık-tezleri-until-december-2023/yöktez/functions.py:115\u001b[0m, in \u001b[0;36mget_abstract\u001b[0;34m(driver, tez_detay, tez_no)\u001b[0m\n\u001b[1;32m    113\u001b[0m driver\u001b[38;5;241m.\u001b[39mexecute_script(tez_detay)\n\u001b[1;32m    114\u001b[0m time\u001b[38;5;241m.\u001b[39msleep(\u001b[38;5;241m0.15\u001b[39m)\n\u001b[0;32m--> 115\u001b[0m soup \u001b[38;5;241m=\u001b[39m \u001b[43mBeautifulSoup\u001b[49m\u001b[43m(\u001b[49m\u001b[43mdriver\u001b[49m\u001b[38;5;241;43m.\u001b[39;49m\u001b[43mpage_source\u001b[49m\u001b[43m,\u001b[49m\u001b[43m \u001b[49m\u001b[38;5;124;43m'\u001b[39;49m\u001b[38;5;124;43mhtml.parser\u001b[39;49m\u001b[38;5;124;43m'\u001b[39;49m\u001b[43m)\u001b[49m\n\u001b[1;32m    116\u001b[0m tezno \u001b[38;5;241m=\u001b[39m soup\u001b[38;5;241m.\u001b[39mfind_all(\u001b[38;5;124m\"\u001b[39m\u001b[38;5;124mtr\u001b[39m\u001b[38;5;124m\"\u001b[39m, {\u001b[38;5;124m\"\u001b[39m\u001b[38;5;124mclass\u001b[39m\u001b[38;5;124m\"\u001b[39m: \u001b[38;5;124m\"\u001b[39m\u001b[38;5;124mrenkp\u001b[39m\u001b[38;5;124m\"\u001b[39m})[\u001b[38;5;241m0\u001b[39m]\u001b[38;5;241m.\u001b[39mfind_all(\u001b[38;5;124m\"\u001b[39m\u001b[38;5;124mtd\u001b[39m\u001b[38;5;124m\"\u001b[39m)[\u001b[38;5;241m0\u001b[39m]\u001b[38;5;241m.\u001b[39mtext\u001b[38;5;241m.\u001b[39mreplace(\u001b[38;5;124m\"\u001b[39m\u001b[38;5;130;01m\\n\u001b[39;00m\u001b[38;5;130;01m\\t\u001b[39;00m\u001b[38;5;124m\"\u001b[39m,\u001b[38;5;124m\"\u001b[39m\u001b[38;5;124m\"\u001b[39m)\u001b[38;5;241m.\u001b[39mstrip()\n\u001b[1;32m    117\u001b[0m \u001b[38;5;28;01mwhile\u001b[39;00m tezno \u001b[38;5;241m!=\u001b[39m tez_no:\n",
      "File \u001b[0;32m~/miniconda3/envs/yoktez/lib/python3.10/site-packages/bs4/__init__.py:442\u001b[0m, in \u001b[0;36mBeautifulSoup.__init__\u001b[0;34m(self, markup, features, builder, parse_only, from_encoding, exclude_encodings, element_classes, **kwargs)\u001b[0m\n\u001b[1;32m    440\u001b[0m     markup \u001b[38;5;241m=\u001b[39m markup\u001b[38;5;241m.\u001b[39mread()\n\u001b[1;32m    441\u001b[0m \u001b[38;5;28;01melif\u001b[39;00m \u001b[38;5;129;01mnot\u001b[39;00m \u001b[38;5;28misinstance\u001b[39m(markup, (\u001b[38;5;28mbytes\u001b[39m, \u001b[38;5;28mstr\u001b[39m)) \u001b[38;5;129;01mand\u001b[39;00m \u001b[38;5;129;01mnot\u001b[39;00m \u001b[38;5;28mhasattr\u001b[39m(markup, \u001b[38;5;124m\"\u001b[39m\u001b[38;5;124m__len__\u001b[39m\u001b[38;5;124m\"\u001b[39m):\n\u001b[0;32m--> 442\u001b[0m     \u001b[38;5;28;01mraise\u001b[39;00m \u001b[38;5;167;01mTypeError\u001b[39;00m(\n\u001b[1;32m    443\u001b[0m         \u001b[38;5;124mf\u001b[39m\u001b[38;5;124m\"\u001b[39m\u001b[38;5;124mIncoming markup is of an invalid type: \u001b[39m\u001b[38;5;132;01m{\u001b[39;00mmarkup\u001b[38;5;132;01m!r}\u001b[39;00m\u001b[38;5;124m. Markup must be a string, a bytestring, or an open filehandle.\u001b[39m\u001b[38;5;124m\"\u001b[39m\n\u001b[1;32m    444\u001b[0m     )\n\u001b[1;32m    445\u001b[0m \u001b[38;5;28;01melif\u001b[39;00m \u001b[38;5;28mlen\u001b[39m(markup) \u001b[38;5;241m<\u001b[39m\u001b[38;5;241m=\u001b[39m \u001b[38;5;241m256\u001b[39m \u001b[38;5;129;01mand\u001b[39;00m (\n\u001b[1;32m    446\u001b[0m     (\u001b[38;5;28misinstance\u001b[39m(markup, \u001b[38;5;28mbytes\u001b[39m) \u001b[38;5;129;01mand\u001b[39;00m \u001b[38;5;124mb\u001b[39m\u001b[38;5;124m\"\u001b[39m\u001b[38;5;124m<\u001b[39m\u001b[38;5;124m\"\u001b[39m \u001b[38;5;129;01mnot\u001b[39;00m \u001b[38;5;129;01min\u001b[39;00m markup \u001b[38;5;129;01mand\u001b[39;00m \u001b[38;5;124mb\u001b[39m\u001b[38;5;124m\"\u001b[39m\u001b[38;5;130;01m\\n\u001b[39;00m\u001b[38;5;124m\"\u001b[39m \u001b[38;5;129;01mnot\u001b[39;00m \u001b[38;5;129;01min\u001b[39;00m markup)\n\u001b[1;32m    447\u001b[0m     \u001b[38;5;129;01mor\u001b[39;00m (\u001b[38;5;28misinstance\u001b[39m(markup, \u001b[38;5;28mstr\u001b[39m) \u001b[38;5;129;01mand\u001b[39;00m \u001b[38;5;124m\"\u001b[39m\u001b[38;5;124m<\u001b[39m\u001b[38;5;124m\"\u001b[39m \u001b[38;5;129;01mnot\u001b[39;00m \u001b[38;5;129;01min\u001b[39;00m markup \u001b[38;5;129;01mand\u001b[39;00m \u001b[38;5;124m\"\u001b[39m\u001b[38;5;130;01m\\n\u001b[39;00m\u001b[38;5;124m\"\u001b[39m \u001b[38;5;129;01mnot\u001b[39;00m \u001b[38;5;129;01min\u001b[39;00m markup)\n\u001b[0;32m   (...)\u001b[0m\n\u001b[1;32m    451\u001b[0m     \u001b[38;5;66;03m# Beautiful Soup will still parse the input as markup,\u001b[39;00m\n\u001b[1;32m    452\u001b[0m     \u001b[38;5;66;03m# since that is sometimes the intended behavior.\u001b[39;00m\n\u001b[1;32m    453\u001b[0m     \u001b[38;5;28;01mif\u001b[39;00m \u001b[38;5;129;01mnot\u001b[39;00m \u001b[38;5;28mself\u001b[39m\u001b[38;5;241m.\u001b[39m_markup_is_url(markup):\n",
      "\u001b[0;31mTypeError\u001b[0m: Incoming markup is of an invalid type: None. Markup must be a string, a bytestring, or an open filehandle."
     ]
    }
   ],
   "source": [
    "year1 =2023\n",
    "year2 = 2025 # yıl2 yıl1 den büyük olmalı\n",
    "\n",
    "for üni in üniversiteler[:]:\n",
    "    time.sleep(1)\n",
    "    year1 =2023\n",
    "    year2 = 2023 # yıl2 yıl1 den büyük olmalı    \n",
    "    driver = get_driver(url)\n",
    "    click_process(driver,üni)\n",
    "    sonuç = sonuç_sayısı(driver)\n",
    "    time.sleep(1)\n",
    "    print(f\"{üni} için sonuç sayısı: {sonuç}\")\n",
    "    \n",
    "    if not sonuç:\n",
    "        driver.close()\n",
    "        continue\n",
    "    if sonuç == 0:\n",
    "        driver.close()\n",
    "        continue\n",
    "    elif sonuç < 2000:\n",
    "        df = get_table(driver)\n",
    "        en, tr = [], []\n",
    "        for idx,rows in df.iterrows():\n",
    "            e, t = get_abstract(driver,rows[\"tez_detay\"],rows[\"tez_no\"])\n",
    "            en.append(e)\n",
    "            tr.append(t)\n",
    "        df['en'] = en\n",
    "        df['tr'] = tr\n",
    "        df.drop(columns=['tez_detay'], inplace=True)\n",
    "        df.to_csv(f\"data/{üni}.csv\", index=False)\n",
    "        driver.close()\n",
    "        continue\n",
    "    elif sonuç < 4000:\n",
    "        driver.close()\n",
    "        döngü = sonuç//2000+2\n",
    "        for i in range(1,döngü):\n",
    "            print(f\"Toplam sonuç sayısı: 2000'den fazla olduğu için yıl aralığı seçiliyor\")\n",
    "            time.sleep(1)\n",
    "            if i == döngü-1:\n",
    "                yıl1 = 1900\n",
    "            else:\n",
    "                yıl1 = year1 - 12\n",
    "            yıl2 = year2\n",
    "            print(f\"Yıl aralığı: {yıl1}-{yıl2}\")\n",
    "            driver = get_driver(url)\n",
    "            click_process(driver,üni,yıl1=yıl1,yıl2=yıl2)\n",
    "            sonuç = sonuç_sayısı(driver)\n",
    "            if sonuç == 0:\n",
    "                driver.close()\n",
    "                continue\n",
    "            print(f\"{üni} için sonuç sayısı: {sonuç}\")\n",
    "            df = get_table(driver)\n",
    "            en, tr = [], []\n",
    "            for idx,rows in df.iloc[:].iterrows():\n",
    "                e, t = get_abstract(driver,rows[\"tez_detay\"],rows[\"tez_no\"])\n",
    "                en.append(e)\n",
    "                tr.append(t)\n",
    "            df['en'] = en\n",
    "            df['tr'] = tr\n",
    "            df.drop(columns=['tez_detay'], inplace=True)\n",
    "            df.to_csv(f\"data/{üni}_{yıl1}_{year2}.csv\", index=False)\n",
    "            driver.close()\n",
    "            \n",
    "            year1 = yıl1-1\n",
    "            year2 = yıl1-1\n",
    "        print(f\"{üni} için işlem tamamlandı\")\n",
    "        print(\"-----------------------------------------------------------\")\n",
    "            \n",
    "    else:\n",
    "        driver.close()\n",
    "        döngü = sonuç//1000+2\n",
    "        for i in range(1,döngü):\n",
    "            print(f\"Toplam sonuç sayısı: 2000'den fazla olduğu için yıl aralığı seçiliyor\")\n",
    "            time.sleep(1)\n",
    "            if i == döngü-1:\n",
    "                yıl1 = 1900\n",
    "            else:\n",
    "                yıl1 = year1 - 6\n",
    "            yıl2 = year2\n",
    "            print(f\"Yıl aralığı: {yıl1}-{yıl2}\")\n",
    "            driver = get_driver(url)\n",
    "            click_process(driver,üni,yıl1=yıl1,yıl2=yıl2)\n",
    "            sonuç = sonuç_sayısı(driver)\n",
    "            if sonuç == 0:\n",
    "                driver.close()\n",
    "                continue\n",
    "            else:\n",
    "                print(f\"{üni} için sonuç sayısı: {sonuç}\")\n",
    "                df = get_table(driver)\n",
    "                en, tr = [], []\n",
    "                for idx,rows in df.iloc[:].iterrows():\n",
    "                    e, t = get_abstract(driver,rows[\"tez_detay\"],rows[\"tez_no\"])\n",
    "                    en.append(e)\n",
    "                    tr.append(t)\n",
    "                df['en'] = en\n",
    "                df['tr'] = tr\n",
    "                df.drop(columns=['tez_detay'], inplace=True)\n",
    "                df.to_csv(f\"data/{üni}_{yıl1}_{year2}.csv\", index=False)\n",
    "                driver.close()\n",
    "                \n",
    "                year1 = yıl1-1\n",
    "                year2 = yıl1-1\n",
    "        print(f\"{üni} için işlem tamamlandı\")\n",
    "        print(\"-----------------------------------------------------------\")\n",
    "            \n",
    "            \n",
    "            "
   ]
  },
  {
   "cell_type": "markdown",
   "metadata": {},
   "source": [
    "# Sonuç Sayısı fazla olanları çekme"
   ]
  },
  {
   "cell_type": "code",
   "execution_count": null,
   "metadata": {},
   "outputs": [],
   "source": [
    "# sağlık bilimleri üniversitesi 2017-2023 arası 10000 sonuç var. yıl yıl çekilmeli."
   ]
  },
  {
   "cell_type": "code",
   "execution_count": 3,
   "metadata": {},
   "outputs": [],
   "source": [
    "import sys\n",
    "from selenium import webdriver\n",
    "from selenium.common.exceptions import WebDriverException\n",
    "from selenium.webdriver.support.ui import Select\n",
    "from selenium.webdriver.support.ui import WebDriverWait as wait\n",
    "from selenium.webdriver.support import expected_conditions as EC\n",
    "from selenium.webdriver.common.by import By\n",
    "from selenium.webdriver.chrome.options import Options\n",
    "from selenium.webdriver.common.keys import Keys\n",
    "from selenium.webdriver import ActionChains\n",
    "from selenium.webdriver.common.keys import Keys\n",
    "from bs4 import BeautifulSoup\n",
    "import pandas as pd\n",
    "import numpy as np\n",
    "import requests\n",
    "import time\n",
    "import re\n",
    "from fake_useragent import UserAgent\n",
    "from functions import *"
   ]
  },
  {
   "cell_type": "code",
   "execution_count": 4,
   "metadata": {},
   "outputs": [],
   "source": [
    "\n",
    "\n",
    "url = \"https://tez.yok.gov.tr/UlusalTezMerkezi/\"\n",
    "\n"
   ]
  },
  {
   "cell_type": "code",
   "execution_count": 11,
   "metadata": {},
   "outputs": [],
   "source": [
    "driver = get_driver(url)\n"
   ]
  },
  {
   "cell_type": "code",
   "execution_count": 10,
   "metadata": {},
   "outputs": [],
   "source": [
    "df = get_table(driver)\n",
    "en, tr = [], []\n",
    "for idx,rows in df.iterrows():\n",
    "    e, t = get_abstract(driver,rows[\"tez_detay\"],rows[\"tez_no\"])\n",
    "    en.append(e)\n",
    "    tr.append(t)\n",
    "df['en'] = en\n",
    "df['tr'] = tr\n",
    "df.drop(columns=['tez_detay'], inplace=True)\n",
    "\n",
    "\n",
    "# CSV adını değiştirmeyi unutma\n",
    "df.to_csv(\"Diş Hekimliği Uzmanlık_2016_2020.csv\", index=False)\n",
    "driver.close()"
   ]
  }
 ],
 "metadata": {
  "kernelspec": {
   "display_name": "yoktez",
   "language": "python",
   "name": "python3"
  },
  "language_info": {
   "codemirror_mode": {
    "name": "ipython",
    "version": 3
   },
   "file_extension": ".py",
   "mimetype": "text/x-python",
   "name": "python",
   "nbconvert_exporter": "python",
   "pygments_lexer": "ipython3",
   "version": "3.10.0"
  }
 },
 "nbformat": 4,
 "nbformat_minor": 2
}

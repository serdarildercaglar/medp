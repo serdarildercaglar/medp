{
 "cells": [
  {
   "cell_type": "code",
   "execution_count": 1,
   "metadata": {},
   "outputs": [],
   "source": [
    "import pandas as pd\n",
    "import numpy as np\n",
    "\n",
    "pd.set_option('display.max_colwidth', 1000)\n",
    "from glob2 import glob\n",
    "import os\n",
    "import re"
   ]
  },
  {
   "cell_type": "code",
   "execution_count": 2,
   "metadata": {},
   "outputs": [
    {
     "data": {
      "text/plain": [
       "138"
      ]
     },
     "execution_count": 2,
     "metadata": {},
     "output_type": "execute_result"
    }
   ],
   "source": [
    "files = glob('data/*.csv')\n",
    "len(files)"
   ]
  },
  {
   "cell_type": "code",
   "execution_count": 3,
   "metadata": {},
   "outputs": [
    {
     "data": {
      "text/plain": [
       "(84774, 8)"
      ]
     },
     "execution_count": 3,
     "metadata": {},
     "output_type": "execute_result"
    }
   ],
   "source": [
    "data = pd.concat([pd.read_csv(f) for f in files], ignore_index=True)\n",
    "data.shape"
   ]
  },
  {
   "cell_type": "code",
   "execution_count": 4,
   "metadata": {},
   "outputs": [],
   "source": [
    "df = data.copy()"
   ]
  },
  {
   "cell_type": "code",
   "execution_count": 5,
   "metadata": {},
   "outputs": [
    {
     "data": {
      "text/html": [
       "<div>\n",
       "<style scoped>\n",
       "    .dataframe tbody tr th:only-of-type {\n",
       "        vertical-align: middle;\n",
       "    }\n",
       "\n",
       "    .dataframe tbody tr th {\n",
       "        vertical-align: top;\n",
       "    }\n",
       "\n",
       "    .dataframe thead th {\n",
       "        text-align: right;\n",
       "    }\n",
       "</style>\n",
       "<table border=\"1\" class=\"dataframe\">\n",
       "  <thead>\n",
       "    <tr style=\"text-align: right;\">\n",
       "      <th></th>\n",
       "      <th>tez_no</th>\n",
       "      <th>yazar</th>\n",
       "      <th>yıl</th>\n",
       "      <th>title</th>\n",
       "      <th>üniversite</th>\n",
       "      <th>tez_türü</th>\n",
       "      <th>konu</th>\n",
       "      <th>tez_detay</th>\n",
       "    </tr>\n",
       "  </thead>\n",
       "  <tbody>\n",
       "    <tr>\n",
       "      <th>0</th>\n",
       "      <td>434638</td>\n",
       "      <td>ALTAY İLDAN</td>\n",
       "      <td>2016</td>\n",
       "      <td>Skuamöz hücreli baş ve boyun tümörlerinde 1 günlük dosetaksel, sisplatin ve 5-fluorourasil tedavisinin etkinliğinin değerlendirilmesi&lt;br&gt;&lt;span style='font-style: italic';&gt;Efficacy of one day docetaxel, cisplatġn and 5-fluorouracil regimen in patients with the head and neck cancer</td>\n",
       "      <td>İzmir Katip Çelebi Üniversitesi</td>\n",
       "      <td>Tıpta Uzmanlık</td>\n",
       "      <td>Onkoloji = Oncology</td>\n",
       "      <td>onclick=tezDetay('igAokwJE52RTluG6yCXxqw','pnFhe1oNwMZ14Oj3CsRhlg')</td>\n",
       "    </tr>\n",
       "    <tr>\n",
       "      <th>1</th>\n",
       "      <td>447442</td>\n",
       "      <td>TAHİR ÖZTÜRK</td>\n",
       "      <td>2016</td>\n",
       "      <td>Erişkinlerde radius distal uç kırıklarında anatomik volar kilitli plak ile tedavi sonuçlarımız&lt;br&gt;&lt;span style='font-style: italic';&gt;Results of surgical treatment of distal radius fractures with anatomic volar locking plate in adults</td>\n",
       "      <td>İzmir Katip Çelebi Üniversitesi</td>\n",
       "      <td>Tıpta Uzmanlık</td>\n",
       "      <td>Ortopedi ve Travmatoloji = Orthopedics and Traumatology</td>\n",
       "      <td>onclick=tezDetay('gRO_kNMEXfDjrTfbdlYljg','IQblAN3JlR5qq4xlP-KGfg')</td>\n",
       "    </tr>\n",
       "    <tr>\n",
       "      <th>2</th>\n",
       "      <td>554943</td>\n",
       "      <td>NAGİHAN AKKAŞ</td>\n",
       "      <td>2019</td>\n",
       "      <td>Kronik böbrek yetmezliği olan hastalarda akut pankreatitin etyolojisi ve klinik seyri&lt;br&gt;&lt;span style='font-style: italic';&gt;Etiology and clinical course of acute pancreatitis in patients with chronic renal failure</td>\n",
       "      <td>İzmir Katip Çelebi Üniversitesi</td>\n",
       "      <td>Tıpta Uzmanlık</td>\n",
       "      <td>Gastroenteroloji = Gastroenterology</td>\n",
       "      <td>onclick=tezDetay('_ayEngZSDUFoeG1XyYsUxw','mvw1aMOSwS8psESPckE3MQ')</td>\n",
       "    </tr>\n",
       "    <tr>\n",
       "      <th>3</th>\n",
       "      <td>484626</td>\n",
       "      <td>BERKER ŞEKER</td>\n",
       "      <td>2017</td>\n",
       "      <td>Diyabet tanısı olan ve olmayan hastaların mean platelet volum MPV) açısından değerlendirilmesi&lt;br&gt;&lt;span style='font-style: italic';&gt;Evaluation of mean platelet volume (MPV) for diabetic and non diabetic patients</td>\n",
       "      <td>İzmir Katip Çelebi Üniversitesi</td>\n",
       "      <td>Tıpta Uzmanlık</td>\n",
       "      <td>Aile Hekimliği = Family Medicine ; Endokrinoloji ve Metabolizma Hastalıkları = Endocrinology and Metabolic Diseases</td>\n",
       "      <td>onclick=tezDetay('WRrQ3F-c_A8QUiuYxcvGrA','dBAxtIU53XfnEpDSGF8WsA')</td>\n",
       "    </tr>\n",
       "    <tr>\n",
       "      <th>4</th>\n",
       "      <td>546225</td>\n",
       "      <td>ALİ ZEYNETTİN</td>\n",
       "      <td>2019</td>\n",
       "      <td>Akut pankreatit vakalarında şiddetin belirlenmesinde prokalsitonin değeri&lt;br&gt;&lt;span style='font-style: italic';&gt;The value of procalsiton in determining violence in acute pancreatitis cases</td>\n",
       "      <td>İzmir Katip Çelebi Üniversitesi</td>\n",
       "      <td>Tıpta Uzmanlık</td>\n",
       "      <td>Gastroenteroloji = Gastroenterology</td>\n",
       "      <td>onclick=tezDetay('78DfHtHsiVQxsr85HmIgww','frD3xbBmIEZLs0GxuJxExg')</td>\n",
       "    </tr>\n",
       "  </tbody>\n",
       "</table>\n",
       "</div>"
      ],
      "text/plain": [
       "   tez_no          yazar   yıl  \\\n",
       "0  434638    ALTAY İLDAN  2016   \n",
       "1  447442   TAHİR ÖZTÜRK  2016   \n",
       "2  554943  NAGİHAN AKKAŞ  2019   \n",
       "3  484626   BERKER ŞEKER  2017   \n",
       "4  546225  ALİ ZEYNETTİN  2019   \n",
       "\n",
       "                                                                                                                                                                                                                                                                                      title  \\\n",
       "0  Skuamöz hücreli baş ve boyun tümörlerinde 1 günlük dosetaksel, sisplatin ve 5-fluorourasil tedavisinin etkinliğinin değerlendirilmesi<br><span style='font-style: italic';>Efficacy of one day docetaxel, cisplatġn and 5-fluorouracil regimen in patients with the head and neck cancer   \n",
       "1                                                  Erişkinlerde radius distal uç kırıklarında anatomik volar kilitli plak ile tedavi sonuçlarımız<br><span style='font-style: italic';>Results of surgical treatment of distal radius fractures with anatomic volar locking plate in adults   \n",
       "2                                                                      Kronik böbrek yetmezliği olan hastalarda akut pankreatitin etyolojisi ve klinik seyri<br><span style='font-style: italic';>Etiology and clinical course of acute pancreatitis in patients with chronic renal failure   \n",
       "3                                                                       Diyabet tanısı olan ve olmayan hastaların mean platelet volum MPV) açısından değerlendirilmesi<br><span style='font-style: italic';>Evaluation of mean platelet volume (MPV) for diabetic and non diabetic patients   \n",
       "4                                                                                               Akut pankreatit vakalarında şiddetin belirlenmesinde prokalsitonin değeri<br><span style='font-style: italic';>The value of procalsiton in determining violence in acute pancreatitis cases   \n",
       "\n",
       "                        üniversite        tez_türü  \\\n",
       "0  İzmir Katip Çelebi Üniversitesi  Tıpta Uzmanlık   \n",
       "1  İzmir Katip Çelebi Üniversitesi  Tıpta Uzmanlık   \n",
       "2  İzmir Katip Çelebi Üniversitesi  Tıpta Uzmanlık   \n",
       "3  İzmir Katip Çelebi Üniversitesi  Tıpta Uzmanlık   \n",
       "4  İzmir Katip Çelebi Üniversitesi  Tıpta Uzmanlık   \n",
       "\n",
       "                                                                                                                  konu  \\\n",
       "0                                                                                                  Onkoloji = Oncology   \n",
       "1                                                              Ortopedi ve Travmatoloji = Orthopedics and Traumatology   \n",
       "2                                                                                  Gastroenteroloji = Gastroenterology   \n",
       "3  Aile Hekimliği = Family Medicine ; Endokrinoloji ve Metabolizma Hastalıkları = Endocrinology and Metabolic Diseases   \n",
       "4                                                                                  Gastroenteroloji = Gastroenterology   \n",
       "\n",
       "                                                              tez_detay  \n",
       "0   onclick=tezDetay('igAokwJE52RTluG6yCXxqw','pnFhe1oNwMZ14Oj3CsRhlg')  \n",
       "1   onclick=tezDetay('gRO_kNMEXfDjrTfbdlYljg','IQblAN3JlR5qq4xlP-KGfg')  \n",
       "2   onclick=tezDetay('_ayEngZSDUFoeG1XyYsUxw','mvw1aMOSwS8psESPckE3MQ')  \n",
       "3   onclick=tezDetay('WRrQ3F-c_A8QUiuYxcvGrA','dBAxtIU53XfnEpDSGF8WsA')  \n",
       "4   onclick=tezDetay('78DfHtHsiVQxsr85HmIgww','frD3xbBmIEZLs0GxuJxExg')  "
      ]
     },
     "execution_count": 5,
     "metadata": {},
     "output_type": "execute_result"
    }
   ],
   "source": [
    "df.head()"
   ]
  },
  {
   "cell_type": "code",
   "execution_count": 7,
   "metadata": {},
   "outputs": [
    {
     "data": {
      "text/plain": [
       "(80331, 8)"
      ]
     },
     "execution_count": 7,
     "metadata": {},
     "output_type": "execute_result"
    }
   ],
   "source": [
    "# 1990 sonrası verileri alıyoruz\n",
    "df = df[df['yıl'] >= 1990]\n",
    "df.shape"
   ]
  },
  {
   "cell_type": "code",
   "execution_count": 8,
   "metadata": {},
   "outputs": [
    {
     "name": "stdout",
     "output_type": "stream",
     "text": [
      "<class 'pandas.core.frame.DataFrame'>\n",
      "Index: 80331 entries, 0 to 84773\n",
      "Data columns (total 8 columns):\n",
      " #   Column      Non-Null Count  Dtype \n",
      "---  ------      --------------  ----- \n",
      " 0   tez_no      80331 non-null  int64 \n",
      " 1   yazar       80331 non-null  object\n",
      " 2   yıl         80331 non-null  int64 \n",
      " 3   title       80331 non-null  object\n",
      " 4   üniversite  80331 non-null  object\n",
      " 5   tez_türü    80331 non-null  object\n",
      " 6   konu        80331 non-null  object\n",
      " 7   tez_detay   80331 non-null  object\n",
      "dtypes: int64(2), object(6)\n",
      "memory usage: 5.5+ MB\n"
     ]
    }
   ],
   "source": [
    "df.info()"
   ]
  },
  {
   "cell_type": "code",
   "execution_count": 9,
   "metadata": {},
   "outputs": [
    {
     "data": {
      "text/plain": [
       "konu\n",
       "Çocuk Sağlığı ve Hastalıkları = Child Health and Diseases                                                                                7612\n",
       "Anestezi ve Reanimasyon = Anesthesiology and Reanimation                                                                                 5054\n",
       "Kadın Hastalıkları ve Doğum = Obstetrics and Gynecology                                                                                  4210\n",
       "Radyoloji ve Nükleer Tıp = Radiology and Nuclear Medicine                                                                                3672\n",
       "Psikiyatri = Psychiatry                                                                                                                  3361\n",
       "                                                                                                                                         ... \n",
       "Nöroloji = Neurology ; Psikiyatri = Psychiatry ; Radyoloji ve Nükleer Tıp = Radiology and Nuclear Medicine                                  1\n",
       "Biyokimya = Biochemistry ; Nefroloji = Nephrology ; Patoloji = Pathology                                                                    1\n",
       "Anestezi ve Reanimasyon = Anesthesiology and Reanimation ; Fizyopatoloji = Physiopathology                                                  1\n",
       "Gastroenteroloji = Gastroenterology ; Radyoloji ve Nükleer Tıp = Radiology and Nuclear Medicine ; İç Hastalıkları = Internal diseases       1\n",
       "Nöroloji = Neurology ; Onkoloji = Oncology ; Çocuk Sağlığı ve Hastalıkları = Child Health and Diseases                                      1\n",
       "Name: count, Length: 1423, dtype: int64"
      ]
     },
     "execution_count": 9,
     "metadata": {},
     "output_type": "execute_result"
    }
   ],
   "source": [
    "df.konu.value_counts()"
   ]
  }
 ],
 "metadata": {
  "kernelspec": {
   "display_name": "yoktez",
   "language": "python",
   "name": "python3"
  },
  "language_info": {
   "codemirror_mode": {
    "name": "ipython",
    "version": 3
   },
   "file_extension": ".py",
   "mimetype": "text/x-python",
   "name": "python",
   "nbconvert_exporter": "python",
   "pygments_lexer": "ipython3",
   "version": "3.10.0"
  }
 },
 "nbformat": 4,
 "nbformat_minor": 2
}
